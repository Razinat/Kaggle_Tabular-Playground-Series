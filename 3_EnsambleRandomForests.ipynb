{
 "cells": [
  {
   "cell_type": "markdown",
   "metadata": {},
   "source": [
    "# Попробуем сделать ансамбль из случ.лесов. Чтобы леса получились максимально разными, будем обучать их на разном признаковом пространстве."
   ]
  },
  {
   "cell_type": "code",
   "execution_count": 1,
   "metadata": {},
   "outputs": [],
   "source": [
    "import pandas as pd \n",
    "import numpy as np\n",
    "import warnings\n",
    "warnings.filterwarnings('ignore')\n",
    "from matplotlib import pyplot as plt\n",
    "from sklearn.metrics import mean_squared_error\n",
    "from sklearn.model_selection import train_test_split\n",
    "from sklearn.model_selection import KFold\n",
    "import xgboost\n",
    "import matplotlib"
   ]
  },
  {
   "cell_type": "code",
   "execution_count": 2,
   "metadata": {},
   "outputs": [],
   "source": [
    "data_train = pd.read_csv('train.csv') # Загружаем датасет"
   ]
  },
  {
   "cell_type": "code",
   "execution_count": 3,
   "metadata": {},
   "outputs": [],
   "source": [
    "# удалим id\n",
    "data_train.drop(['id'], axis='columns', inplace=True)"
   ]
  },
  {
   "cell_type": "markdown",
   "metadata": {},
   "source": [
    "### Перемешаем данные"
   ]
  },
  {
   "cell_type": "code",
   "execution_count": 4,
   "metadata": {},
   "outputs": [],
   "source": [
    "from sklearn.utils import shuffle\n",
    "data_train = shuffle(data_train)"
   ]
  },
  {
   "cell_type": "code",
   "execution_count": 5,
   "metadata": {},
   "outputs": [
    {
     "data": {
      "text/html": [
       "<div>\n",
       "<style scoped>\n",
       "    .dataframe tbody tr th:only-of-type {\n",
       "        vertical-align: middle;\n",
       "    }\n",
       "\n",
       "    .dataframe tbody tr th {\n",
       "        vertical-align: top;\n",
       "    }\n",
       "\n",
       "    .dataframe thead th {\n",
       "        text-align: right;\n",
       "    }\n",
       "</style>\n",
       "<table border=\"1\" class=\"dataframe\">\n",
       "  <thead>\n",
       "    <tr style=\"text-align: right;\">\n",
       "      <th></th>\n",
       "      <th>cont1</th>\n",
       "      <th>cont2</th>\n",
       "      <th>cont3</th>\n",
       "      <th>cont4</th>\n",
       "      <th>cont5</th>\n",
       "      <th>cont6</th>\n",
       "      <th>cont7</th>\n",
       "      <th>cont8</th>\n",
       "      <th>cont9</th>\n",
       "      <th>cont10</th>\n",
       "      <th>cont11</th>\n",
       "      <th>cont12</th>\n",
       "      <th>cont13</th>\n",
       "      <th>cont14</th>\n",
       "      <th>target</th>\n",
       "    </tr>\n",
       "  </thead>\n",
       "  <tbody>\n",
       "    <tr>\n",
       "      <th>191965</th>\n",
       "      <td>0.295112</td>\n",
       "      <td>0.685823</td>\n",
       "      <td>0.374259</td>\n",
       "      <td>0.235741</td>\n",
       "      <td>0.963687</td>\n",
       "      <td>0.523094</td>\n",
       "      <td>0.573704</td>\n",
       "      <td>0.916726</td>\n",
       "      <td>0.484564</td>\n",
       "      <td>0.509155</td>\n",
       "      <td>0.375363</td>\n",
       "      <td>0.334257</td>\n",
       "      <td>0.578620</td>\n",
       "      <td>0.237291</td>\n",
       "      <td>8.412470</td>\n",
       "    </tr>\n",
       "    <tr>\n",
       "      <th>141861</th>\n",
       "      <td>0.514874</td>\n",
       "      <td>0.357070</td>\n",
       "      <td>0.370016</td>\n",
       "      <td>0.439193</td>\n",
       "      <td>0.284877</td>\n",
       "      <td>0.637632</td>\n",
       "      <td>0.531807</td>\n",
       "      <td>0.630240</td>\n",
       "      <td>0.405363</td>\n",
       "      <td>0.741863</td>\n",
       "      <td>0.710572</td>\n",
       "      <td>0.690737</td>\n",
       "      <td>0.809731</td>\n",
       "      <td>0.741665</td>\n",
       "      <td>8.636301</td>\n",
       "    </tr>\n",
       "    <tr>\n",
       "      <th>160584</th>\n",
       "      <td>0.332313</td>\n",
       "      <td>0.322988</td>\n",
       "      <td>0.263782</td>\n",
       "      <td>0.458694</td>\n",
       "      <td>0.281011</td>\n",
       "      <td>0.511566</td>\n",
       "      <td>0.513491</td>\n",
       "      <td>0.951896</td>\n",
       "      <td>0.450326</td>\n",
       "      <td>0.530799</td>\n",
       "      <td>0.359212</td>\n",
       "      <td>0.347988</td>\n",
       "      <td>0.745581</td>\n",
       "      <td>0.695061</td>\n",
       "      <td>7.072099</td>\n",
       "    </tr>\n",
       "    <tr>\n",
       "      <th>225705</th>\n",
       "      <td>0.508071</td>\n",
       "      <td>0.178606</td>\n",
       "      <td>0.522189</td>\n",
       "      <td>0.350236</td>\n",
       "      <td>0.507641</td>\n",
       "      <td>0.649479</td>\n",
       "      <td>0.794728</td>\n",
       "      <td>0.573104</td>\n",
       "      <td>0.429227</td>\n",
       "      <td>0.379336</td>\n",
       "      <td>0.446899</td>\n",
       "      <td>0.556164</td>\n",
       "      <td>0.351159</td>\n",
       "      <td>0.831453</td>\n",
       "      <td>7.786183</td>\n",
       "    </tr>\n",
       "    <tr>\n",
       "      <th>243534</th>\n",
       "      <td>0.351336</td>\n",
       "      <td>0.419173</td>\n",
       "      <td>0.591622</td>\n",
       "      <td>0.798406</td>\n",
       "      <td>0.416610</td>\n",
       "      <td>0.174474</td>\n",
       "      <td>0.261961</td>\n",
       "      <td>0.273847</td>\n",
       "      <td>0.336974</td>\n",
       "      <td>0.188184</td>\n",
       "      <td>0.286560</td>\n",
       "      <td>0.149349</td>\n",
       "      <td>0.375853</td>\n",
       "      <td>0.450801</td>\n",
       "      <td>7.124895</td>\n",
       "    </tr>\n",
       "  </tbody>\n",
       "</table>\n",
       "</div>"
      ],
      "text/plain": [
       "           cont1     cont2     cont3     cont4     cont5     cont6     cont7  \\\n",
       "191965  0.295112  0.685823  0.374259  0.235741  0.963687  0.523094  0.573704   \n",
       "141861  0.514874  0.357070  0.370016  0.439193  0.284877  0.637632  0.531807   \n",
       "160584  0.332313  0.322988  0.263782  0.458694  0.281011  0.511566  0.513491   \n",
       "225705  0.508071  0.178606  0.522189  0.350236  0.507641  0.649479  0.794728   \n",
       "243534  0.351336  0.419173  0.591622  0.798406  0.416610  0.174474  0.261961   \n",
       "\n",
       "           cont8     cont9    cont10    cont11    cont12    cont13    cont14  \\\n",
       "191965  0.916726  0.484564  0.509155  0.375363  0.334257  0.578620  0.237291   \n",
       "141861  0.630240  0.405363  0.741863  0.710572  0.690737  0.809731  0.741665   \n",
       "160584  0.951896  0.450326  0.530799  0.359212  0.347988  0.745581  0.695061   \n",
       "225705  0.573104  0.429227  0.379336  0.446899  0.556164  0.351159  0.831453   \n",
       "243534  0.273847  0.336974  0.188184  0.286560  0.149349  0.375853  0.450801   \n",
       "\n",
       "          target  \n",
       "191965  8.412470  \n",
       "141861  8.636301  \n",
       "160584  7.072099  \n",
       "225705  7.786183  \n",
       "243534  7.124895  "
      ]
     },
     "execution_count": 5,
     "metadata": {},
     "output_type": "execute_result"
    }
   ],
   "source": [
    "data_train.head()"
   ]
  },
  {
   "cell_type": "markdown",
   "metadata": {},
   "source": [
    "***Выделим признаки***"
   ]
  },
  {
   "cell_type": "code",
   "execution_count": 6,
   "metadata": {},
   "outputs": [],
   "source": [
    "features = [feature for feature in data_train.columns if feature not in ['target']]"
   ]
  },
  {
   "cell_type": "code",
   "execution_count": 7,
   "metadata": {},
   "outputs": [],
   "source": [
    "data_test = pd.read_csv('test.csv') # Загружаем датасет тестовый"
   ]
  },
  {
   "cell_type": "markdown",
   "metadata": {},
   "source": [
    "***Обучаем Random Forest много раз за минусом одного признака***"
   ]
  },
  {
   "cell_type": "code",
   "execution_count": 8,
   "metadata": {},
   "outputs": [
    {
     "name": "stdout",
     "output_type": "stream",
     "text": [
      "['cont1', 'cont2', 'cont3', 'cont4', 'cont5', 'cont6', 'cont7', 'cont8', 'cont9', 'cont10', 'cont11', 'cont12', 'cont13', 'cont14']\n"
     ]
    }
   ],
   "source": [
    "print(features)"
   ]
  },
  {
   "cell_type": "code",
   "execution_count": 9,
   "metadata": {
    "scrolled": false
   },
   "outputs": [
    {
     "name": "stdout",
     "output_type": "stream",
     "text": [
      "1 0.6990335565922334\n",
      "2 0.7010489466779305\n",
      "3 0.7017194692253993\n",
      "Итоговая усредненная точость за минусом признака cont1 : 0.7006006574985211\n",
      "1 0.6989970419646516\n",
      "2 0.7015330519445871\n",
      "3 0.7016067257018228\n",
      "Итоговая усредненная точость за минусом признака cont2 : 0.7007122732036871\n",
      "1 0.6994220199378712\n",
      "2 0.7016985459154819\n",
      "3 0.7020064953921803\n",
      "Итоговая усредненная точость за минусом признака cont3 : 0.7010423537485112\n",
      "1 0.6999379386630603\n",
      "2 0.7016122003499429\n",
      "3 0.7026781469333113\n",
      "Итоговая усредненная точость за минусом признака cont4 : 0.7014094286487715\n",
      "1 0.6980013618429943\n",
      "2 0.7003712123365857\n",
      "3 0.7012376403360522\n",
      "Итоговая усредненная точость за минусом признака cont5 : 0.6998700715052107\n",
      "1 0.6984435172131166\n",
      "2 0.7008288462062026\n",
      "3 0.700987572642775\n",
      "Итоговая усредненная точость за минусом признака cont6 : 0.7000866453540313\n",
      "1 0.6984390907911722\n",
      "2 0.7005270116388446\n",
      "3 0.7008297508751266\n",
      "Итоговая усредненная точость за минусом признака cont7 : 0.6999319511017145\n",
      "1 0.697825899131741\n",
      "2 0.7002442936805433\n",
      "3 0.7004212150704029\n",
      "Итоговая усредненная точость за минусом признака cont8 : 0.6994971359608958\n",
      "1 0.6981175630269091\n",
      "2 0.7005096524440065\n",
      "3 0.7006105532489261\n",
      "Итоговая усредненная точость за минусом признака cont9 : 0.6997459229066139\n",
      "1 0.6986543579901505\n",
      "2 0.7008045535135972\n",
      "3 0.7015410056186432\n",
      "Итоговая усредненная точость за минусом признака cont10 : 0.7003333057074635\n",
      "1 0.6976823290825964\n",
      "2 0.7000966010509407\n",
      "3 0.7007206547966502\n",
      "Итоговая усредненная точость за минусом признака cont11 : 0.6994998616433957\n",
      "1 0.6980404401395393\n",
      "2 0.7003478004935284\n",
      "3 0.7008402472755119\n",
      "Итоговая усредненная точость за минусом признака cont12 : 0.6997428293028598\n",
      "1 0.6998978445536187\n",
      "2 0.7015048576085418\n",
      "3 0.702657837112667\n",
      "Итоговая усредненная точость за минусом признака cont13 : 0.7013535130916092\n",
      "1 0.698714127562096\n",
      "2 0.7010643972893668\n",
      "3 0.7017211202815705\n",
      "Итоговая усредненная точость за минусом признака cont14 : 0.7004998817110111\n",
      "Wall time: 2h 14min 35s\n"
     ]
    }
   ],
   "source": [
    "%%time\n",
    "preds_list = []\n",
    "for feature in features:\n",
    "    features_new = features.copy()\n",
    "    features_new.remove(feature)  # Удаляем один признак, учим на остальных текущий лес\n",
    "    \n",
    "    # Обучаем:\n",
    "    preds_RF = np.zeros(data_test.shape[0])\n",
    "    kf = KFold(n_splits=3,shuffle=False)  # разделим на 3 фолда\n",
    "    rmse = []  # список с rmse\n",
    "    n = 0\n",
    "    for trn_idx, test_idx in kf.split(data_train[features_new],data_train['target']):\n",
    "        X_tr,X_val=data_train[features_new].iloc[trn_idx],data_train[features_new].iloc[test_idx]\n",
    "        y_tr,y_val=data_train['target'].iloc[trn_idx],data_train['target'].iloc[test_idx]\n",
    "        model = xgboost.XGBRegressor(booster='gbtree', subsample=0.6, learning_rate=1, num_boost_round=1, colsample_bynode=0.6,\n",
    "                                     num_parallel_tree=150, max_depth=5, tree_method='gpu_hist', verbosity = 0) \n",
    "        model.fit(X_tr,y_tr,eval_set=[(X_val,y_val)], verbose = False)\n",
    "        rmse.append(mean_squared_error(y_val, model.predict(X_val), squared=False))   # добавляем rmse в список\n",
    "        print(n+1,rmse[n])                                                            # выводим rmse первого сплита\n",
    "        n+=1\n",
    "        preds_RF+=model.predict(data_test[features_new])/kf.n_splits # Добавляем предсказания, усредняем по всем фолдам\n",
    "    \n",
    "    preds_list.append(preds_RF)\n",
    "    print ('Итоговая усредненная точость за минусом признака', feature , ':',np.mean(rmse))"
   ]
  },
  {
   "cell_type": "code",
   "execution_count": 10,
   "metadata": {
    "scrolled": false
   },
   "outputs": [
    {
     "data": {
      "text/plain": [
       "[array([7.85302305, 7.86228061, 7.89554071, ..., 8.22784424, 8.04083729,\n",
       "        7.97617292]),\n",
       " array([8.00188208, 7.90415215, 7.93615389, ..., 8.14718652, 7.93233132,\n",
       "        7.98831248])]"
      ]
     },
     "execution_count": 10,
     "metadata": {},
     "output_type": "execute_result"
    }
   ],
   "source": [
    "# Посмотрим, какие списки с предсказаниями получились\n",
    "preds_list[:2]"
   ]
  },
  {
   "cell_type": "markdown",
   "metadata": {},
   "source": [
    "***Усредним ответы всех алгоритмов***"
   ]
  },
  {
   "cell_type": "code",
   "execution_count": 11,
   "metadata": {},
   "outputs": [],
   "source": [
    "preds_sum = np.sum(preds_list, axis = 0)/len(preds_list)"
   ]
  },
  {
   "cell_type": "code",
   "execution_count": 12,
   "metadata": {
    "scrolled": true
   },
   "outputs": [
    {
     "data": {
      "text/plain": [
       "array([7.9259243 , 7.87595829, 7.91890873, ..., 8.18447781, 8.03795172,\n",
       "       7.953765  ])"
      ]
     },
     "execution_count": 12,
     "metadata": {},
     "output_type": "execute_result"
    }
   ],
   "source": [
    "preds_sum"
   ]
  },
  {
   "cell_type": "code",
   "execution_count": 13,
   "metadata": {},
   "outputs": [
    {
     "name": "stdout",
     "output_type": "stream",
     "text": [
      "   id    target\n",
      "0   0  7.925924\n",
      "1   2  7.875958\n",
      "2   6  7.918909\n",
      "3   7  8.239393\n",
      "4  10  8.155506\n"
     ]
    }
   ],
   "source": [
    "sub = pd.read_csv('sample_submission.csv') # csv с ответами\n",
    "sub['target'] = preds_sum\n",
    "print(sub.head())\n",
    "sub.to_csv('RF_minusoneFeature.csv', index=False)"
   ]
  },
  {
   "cell_type": "markdown",
   "metadata": {},
   "source": [
    "### Public score 0.69914"
   ]
  },
  {
   "cell_type": "markdown",
   "metadata": {},
   "source": [
    "### Попробуем включить в общую модель только наиболее успешные алгоритмы по кросс-валидации, где rmse < 0.70000"
   ]
  },
  {
   "cell_type": "markdown",
   "metadata": {},
   "source": [
    "***without features: cont12, cont11, cont9, cont8, cont5***"
   ]
  },
  {
   "cell_type": "code",
   "execution_count": 14,
   "metadata": {},
   "outputs": [],
   "source": [
    "preds_sum_bestmodels = (preds_list[11] + preds_list[10] + preds_list[8] + preds_list[7] + preds_list[4])/5"
   ]
  },
  {
   "cell_type": "code",
   "execution_count": 15,
   "metadata": {},
   "outputs": [
    {
     "data": {
      "text/plain": [
       "array([7.91867399, 7.89952374, 7.93116393, ..., 8.18604927, 8.0512816 ,\n",
       "       7.94791689])"
      ]
     },
     "execution_count": 15,
     "metadata": {},
     "output_type": "execute_result"
    }
   ],
   "source": [
    "preds_sum_bestmodels"
   ]
  },
  {
   "cell_type": "code",
   "execution_count": 16,
   "metadata": {},
   "outputs": [
    {
     "name": "stdout",
     "output_type": "stream",
     "text": [
      "   id    target\n",
      "0   0  7.918674\n",
      "1   2  7.899524\n",
      "2   6  7.931164\n",
      "3   7  8.230678\n",
      "4  10  8.175378\n"
     ]
    }
   ],
   "source": [
    "sub = pd.read_csv('sample_submission.csv') # csv с ответами\n",
    "sub['target'] = preds_sum_bestmodels\n",
    "print(sub.head())\n",
    "sub.to_csv('RF_minusoneFeature_bestmodels.csv', index=False)"
   ]
  },
  {
   "cell_type": "markdown",
   "metadata": {},
   "source": [
    "***score 0.69937. Точность упала. Unlucky. Композиция лесов получился менее разнообразный***"
   ]
  },
  {
   "cell_type": "markdown",
   "metadata": {},
   "source": [
    "## Вглянем ещё раз на target и попробуем менять гиперпараметры лесов."
   ]
  },
  {
   "cell_type": "code",
   "execution_count": 17,
   "metadata": {},
   "outputs": [],
   "source": [
    "data_train = pd.read_csv('train.csv') # Загружаем датасет"
   ]
  },
  {
   "cell_type": "code",
   "execution_count": 18,
   "metadata": {},
   "outputs": [],
   "source": [
    "# удалим id\n",
    "data_train.drop(['id'], axis='columns', inplace=True)"
   ]
  },
  {
   "cell_type": "code",
   "execution_count": 19,
   "metadata": {},
   "outputs": [],
   "source": [
    "target = data_train['target']"
   ]
  },
  {
   "cell_type": "code",
   "execution_count": 20,
   "metadata": {},
   "outputs": [
    {
     "data": {
      "image/png": "[encoded data removed]",
      "text/plain": [
       "<Figure size 1224x216 with 1 Axes>"
      ]
     },
     "metadata": {
      "needs_background": "light"
     },
     "output_type": "display_data"
    }
   ],
   "source": [
    "plt.figure(figsize=(17,3))\n",
    "plt.plot(range(len(target)), target)\n",
    "plt.title('Target data_train')\n",
    "plt.grid()"
   ]
  },
  {
   "cell_type": "markdown",
   "metadata": {},
   "source": [
    "***Видно, что здесь есть очевидный выброс с target = 0. Так же удалим некоторые значения target < 4.5, т.к они так же не очень вписываются в общую картину***"
   ]
  },
  {
   "cell_type": "code",
   "execution_count": 21,
   "metadata": {},
   "outputs": [],
   "source": [
    "data_train = data_train.drop(np.where(data_train['target'] < 4.5)[0])"
   ]
  },
  {
   "cell_type": "code",
   "execution_count": 22,
   "metadata": {},
   "outputs": [],
   "source": [
    "target = data_train['target']"
   ]
  },
  {
   "cell_type": "code",
   "execution_count": 23,
   "metadata": {
    "scrolled": true
   },
   "outputs": [
    {
     "data": {
      "image/png": "[encoded data removed]",
      "text/plain": [
       "<Figure size 1224x216 with 1 Axes>"
      ]
     },
     "metadata": {
      "needs_background": "light"
     },
     "output_type": "display_data"
    }
   ],
   "source": [
    "plt.figure(figsize=(17,3))\n",
    "plt.plot(range(len(target)), target)\n",
    "plt.title('Target data_train filtered')\n",
    "plt.grid()"
   ]
  },
  {
   "cell_type": "markdown",
   "metadata": {},
   "source": [
    "***Выглядит гораздо лучше***"
   ]
  },
  {
   "cell_type": "markdown",
   "metadata": {},
   "source": [
    "### Перемешаем данные"
   ]
  },
  {
   "cell_type": "code",
   "execution_count": 24,
   "metadata": {},
   "outputs": [],
   "source": [
    "from sklearn.utils import shuffle\n",
    "data_train = shuffle(data_train)"
   ]
  },
  {
   "cell_type": "code",
   "execution_count": 25,
   "metadata": {},
   "outputs": [
    {
     "data": {
      "text/html": [
       "<div>\n",
       "<style scoped>\n",
       "    .dataframe tbody tr th:only-of-type {\n",
       "        vertical-align: middle;\n",
       "    }\n",
       "\n",
       "    .dataframe tbody tr th {\n",
       "        vertical-align: top;\n",
       "    }\n",
       "\n",
       "    .dataframe thead th {\n",
       "        text-align: right;\n",
       "    }\n",
       "</style>\n",
       "<table border=\"1\" class=\"dataframe\">\n",
       "  <thead>\n",
       "    <tr style=\"text-align: right;\">\n",
       "      <th></th>\n",
       "      <th>cont1</th>\n",
       "      <th>cont2</th>\n",
       "      <th>cont3</th>\n",
       "      <th>cont4</th>\n",
       "      <th>cont5</th>\n",
       "      <th>cont6</th>\n",
       "      <th>cont7</th>\n",
       "      <th>cont8</th>\n",
       "      <th>cont9</th>\n",
       "      <th>cont10</th>\n",
       "      <th>cont11</th>\n",
       "      <th>cont12</th>\n",
       "      <th>cont13</th>\n",
       "      <th>cont14</th>\n",
       "      <th>target</th>\n",
       "    </tr>\n",
       "  </thead>\n",
       "  <tbody>\n",
       "    <tr>\n",
       "      <th>281588</th>\n",
       "      <td>0.300923</td>\n",
       "      <td>0.313212</td>\n",
       "      <td>0.514111</td>\n",
       "      <td>0.188445</td>\n",
       "      <td>0.284849</td>\n",
       "      <td>0.322177</td>\n",
       "      <td>0.282423</td>\n",
       "      <td>0.362841</td>\n",
       "      <td>0.273637</td>\n",
       "      <td>0.360225</td>\n",
       "      <td>0.236653</td>\n",
       "      <td>0.371517</td>\n",
       "      <td>0.439925</td>\n",
       "      <td>0.562760</td>\n",
       "      <td>8.514869</td>\n",
       "    </tr>\n",
       "    <tr>\n",
       "      <th>278985</th>\n",
       "      <td>0.185650</td>\n",
       "      <td>0.422924</td>\n",
       "      <td>0.498046</td>\n",
       "      <td>0.884583</td>\n",
       "      <td>0.397297</td>\n",
       "      <td>0.205564</td>\n",
       "      <td>0.226454</td>\n",
       "      <td>0.773887</td>\n",
       "      <td>0.292944</td>\n",
       "      <td>0.217531</td>\n",
       "      <td>0.211721</td>\n",
       "      <td>0.222196</td>\n",
       "      <td>0.478108</td>\n",
       "      <td>0.315470</td>\n",
       "      <td>8.385677</td>\n",
       "    </tr>\n",
       "    <tr>\n",
       "      <th>62590</th>\n",
       "      <td>0.316229</td>\n",
       "      <td>0.357013</td>\n",
       "      <td>0.595943</td>\n",
       "      <td>0.883752</td>\n",
       "      <td>0.876865</td>\n",
       "      <td>0.277072</td>\n",
       "      <td>0.382920</td>\n",
       "      <td>0.567964</td>\n",
       "      <td>0.294842</td>\n",
       "      <td>0.646498</td>\n",
       "      <td>0.421818</td>\n",
       "      <td>0.325825</td>\n",
       "      <td>0.352361</td>\n",
       "      <td>0.254715</td>\n",
       "      <td>6.977938</td>\n",
       "    </tr>\n",
       "    <tr>\n",
       "      <th>241183</th>\n",
       "      <td>0.939774</td>\n",
       "      <td>0.421492</td>\n",
       "      <td>0.186348</td>\n",
       "      <td>0.476054</td>\n",
       "      <td>0.283860</td>\n",
       "      <td>0.821030</td>\n",
       "      <td>0.360523</td>\n",
       "      <td>0.813306</td>\n",
       "      <td>0.869228</td>\n",
       "      <td>0.845745</td>\n",
       "      <td>0.691270</td>\n",
       "      <td>0.970108</td>\n",
       "      <td>0.869924</td>\n",
       "      <td>0.727903</td>\n",
       "      <td>8.184020</td>\n",
       "    </tr>\n",
       "    <tr>\n",
       "      <th>278453</th>\n",
       "      <td>0.405308</td>\n",
       "      <td>0.773097</td>\n",
       "      <td>0.646606</td>\n",
       "      <td>0.810505</td>\n",
       "      <td>0.541404</td>\n",
       "      <td>0.547825</td>\n",
       "      <td>0.397908</td>\n",
       "      <td>0.497674</td>\n",
       "      <td>0.282534</td>\n",
       "      <td>0.448175</td>\n",
       "      <td>0.407115</td>\n",
       "      <td>0.374206</td>\n",
       "      <td>0.674702</td>\n",
       "      <td>0.394877</td>\n",
       "      <td>7.125937</td>\n",
       "    </tr>\n",
       "  </tbody>\n",
       "</table>\n",
       "</div>"
      ],
      "text/plain": [
       "           cont1     cont2     cont3     cont4     cont5     cont6     cont7  \\\n",
       "281588  0.300923  0.313212  0.514111  0.188445  0.284849  0.322177  0.282423   \n",
       "278985  0.185650  0.422924  0.498046  0.884583  0.397297  0.205564  0.226454   \n",
       "62590   0.316229  0.357013  0.595943  0.883752  0.876865  0.277072  0.382920   \n",
       "241183  0.939774  0.421492  0.186348  0.476054  0.283860  0.821030  0.360523   \n",
       "278453  0.405308  0.773097  0.646606  0.810505  0.541404  0.547825  0.397908   \n",
       "\n",
       "           cont8     cont9    cont10    cont11    cont12    cont13    cont14  \\\n",
       "281588  0.362841  0.273637  0.360225  0.236653  0.371517  0.439925  0.562760   \n",
       "278985  0.773887  0.292944  0.217531  0.211721  0.222196  0.478108  0.315470   \n",
       "62590   0.567964  0.294842  0.646498  0.421818  0.325825  0.352361  0.254715   \n",
       "241183  0.813306  0.869228  0.845745  0.691270  0.970108  0.869924  0.727903   \n",
       "278453  0.497674  0.282534  0.448175  0.407115  0.374206  0.674702  0.394877   \n",
       "\n",
       "          target  \n",
       "281588  8.514869  \n",
       "278985  8.385677  \n",
       "62590   6.977938  \n",
       "241183  8.184020  \n",
       "278453  7.125937  "
      ]
     },
     "execution_count": 25,
     "metadata": {},
     "output_type": "execute_result"
    }
   ],
   "source": [
    "data_train.head()"
   ]
  },
  {
   "cell_type": "markdown",
   "metadata": {},
   "source": [
    "***Выделим признаки***"
   ]
  },
  {
   "cell_type": "code",
   "execution_count": 26,
   "metadata": {},
   "outputs": [],
   "source": [
    "features = [feature for feature in data_train.columns if feature not in ['target']]"
   ]
  },
  {
   "cell_type": "code",
   "execution_count": 27,
   "metadata": {
    "scrolled": true
   },
   "outputs": [
    {
     "name": "stdout",
     "output_type": "stream",
     "text": [
      "Признаки ['cont1', 'cont2', 'cont3', 'cont4', 'cont5', 'cont6', 'cont7', 'cont8', 'cont9', 'cont10', 'cont11', 'cont12', 'cont13', 'cont14']\n"
     ]
    }
   ],
   "source": [
    "print ('Признаки', features)"
   ]
  },
  {
   "cell_type": "code",
   "execution_count": 28,
   "metadata": {},
   "outputs": [],
   "source": [
    "data_test = pd.read_csv('test.csv') # Загружаем датасет тестовый"
   ]
  },
  {
   "cell_type": "code",
   "execution_count": 29,
   "metadata": {},
   "outputs": [],
   "source": [
    "import random\n",
    "# Для рандомизации лесов будем использовать рандомные гиперпараметры в заданных пределах"
   ]
  },
  {
   "cell_type": "markdown",
   "metadata": {},
   "source": [
    "***Обучаем Random Forest много раз за минусом одного признака с немного различными гиперпараметрами.***"
   ]
  },
  {
   "cell_type": "code",
   "execution_count": 30,
   "metadata": {},
   "outputs": [
    {
     "name": "stdout",
     "output_type": "stream",
     "text": [
      "colsample_bynode: 0.56 num_tree: 96\n",
      "Итоговая усредненная ошибка за минусом признака cont1 : 0.7005002629335434\n",
      "colsample_bynode: 0.6 num_tree: 150\n",
      "Итоговая усредненная ошибка за минусом признака cont2 : 0.7004911081433868\n",
      "colsample_bynode: 0.73 num_tree: 121\n",
      "Итоговая усредненная ошибка за минусом признака cont3 : 0.7009710719297734\n",
      "colsample_bynode: 0.72 num_tree: 132\n",
      "Итоговая усредненная ошибка за минусом признака cont4 : 0.7013742221997955\n",
      "colsample_bynode: 0.64 num_tree: 131\n",
      "Итоговая усредненная ошибка за минусом признака cont5 : 0.699764987490167\n",
      "colsample_bynode: 0.72 num_tree: 121\n",
      "Итоговая усредненная ошибка за минусом признака cont6 : 0.7000601974776757\n",
      "colsample_bynode: 0.66 num_tree: 97\n",
      "Итоговая усредненная ошибка за минусом признака cont7 : 0.6999125767303211\n",
      "colsample_bynode: 0.62 num_tree: 137\n",
      "Итоговая усредненная ошибка за минусом признака cont8 : 0.6993501010903352\n",
      "colsample_bynode: 0.64 num_tree: 146\n",
      "Итоговая усредненная ошибка за минусом признака cont9 : 0.699610693852961\n",
      "colsample_bynode: 0.62 num_tree: 112\n",
      "Итоговая усредненная ошибка за минусом признака cont10 : 0.7004238257626634\n",
      "colsample_bynode: 0.71 num_tree: 107\n",
      "Итоговая усредненная ошибка за минусом признака cont11 : 0.6996457862624147\n",
      "colsample_bynode: 0.68 num_tree: 84\n",
      "Итоговая усредненная ошибка за минусом признака cont12 : 0.6998932369179364\n",
      "colsample_bynode: 0.69 num_tree: 130\n",
      "Итоговая усредненная ошибка за минусом признака cont13 : 0.7012841775634819\n",
      "colsample_bynode: 0.75 num_tree: 111\n",
      "Итоговая усредненная ошибка за минусом признака cont14 : 0.7005524703552132\n",
      "Wall time: 1h 46min 27s\n"
     ]
    }
   ],
   "source": [
    "%%time\n",
    "preds_list = []\n",
    "for feature in features:\n",
    "    features_new = features.copy()\n",
    "    features_new.remove(feature)  # Удаляем один признак, учим на остальных\n",
    "    \n",
    "    random_df = data_train  #\n",
    "    \n",
    "    # Обучаем:\n",
    "    preds_RF = np.zeros(data_test.shape[0])\n",
    "    kf = KFold(n_splits=3,shuffle=False)  # разделим на 3 фолда\n",
    "    rmse = []  # list contains rmse for each fold\n",
    "    n = 0\n",
    "    subs = cols_bynode = random.randint(55,75)/100\n",
    "    num_tree = random.randint(80,150)\n",
    "    \n",
    "    for trn_idx, test_idx in kf.split(random_df[features_new],random_df['target']):\n",
    "        X_tr,X_val=random_df[features_new].iloc[trn_idx],random_df[features_new].iloc[test_idx]\n",
    "        y_tr,y_val=random_df['target'].iloc[trn_idx],random_df['target'].iloc[test_idx]\n",
    "        model = xgboost.XGBRegressor(booster='gbtree', subsample=subs, learning_rate=1, \n",
    "                                     num_boost_round=1, colsample_bynode=cols_bynode,\n",
    "                                     num_parallel_tree=num_tree, max_depth=5, tree_method='gpu_hist', verbosity = 0) \n",
    "        model.fit(X_tr,y_tr,eval_set=[(X_val,y_val)], verbose = False)\n",
    "        rmse.append(mean_squared_error(y_val, model.predict(X_val), squared=False))    # добавляем rmse в список\n",
    "        #print(n+1,rmse[n])                                                            # выводим rmse первого сплита\n",
    "        n+=1\n",
    "        preds_RF+=model.predict(data_test[features_new])/kf.n_splits # Добавляем предсказания, усредняем по всем фолдам\n",
    "    \n",
    "    preds_list.append(preds_RF)\n",
    "    print ('colsample_bynode:', cols_bynode, 'num_tree:', num_tree)\n",
    "    print ('Итоговая усредненная ошибка за минусом признака', feature , ':',np.mean(rmse))"
   ]
  },
  {
   "cell_type": "code",
   "execution_count": 31,
   "metadata": {
    "scrolled": false
   },
   "outputs": [
    {
     "data": {
      "text/plain": [
       "[array([7.87344098, 7.87162995, 7.8907187 , ..., 8.24238229, 8.04831433,\n",
       "        7.96301126]),\n",
       " array([8.00382662, 7.89826965, 7.93521571, ..., 8.16336989, 7.94339371,\n",
       "        7.97476482])]"
      ]
     },
     "execution_count": 31,
     "metadata": {},
     "output_type": "execute_result"
    }
   ],
   "source": [
    "preds_list[:2]"
   ]
  },
  {
   "cell_type": "markdown",
   "metadata": {},
   "source": [
    "***Усредним ответы всех алгоритмов***"
   ]
  },
  {
   "cell_type": "code",
   "execution_count": 32,
   "metadata": {},
   "outputs": [],
   "source": [
    "preds_sum = np.sum(preds_list, axis = 0)/len(preds_list)"
   ]
  },
  {
   "cell_type": "code",
   "execution_count": 33,
   "metadata": {
    "scrolled": true
   },
   "outputs": [
    {
     "data": {
      "text/plain": [
       "array([7.94137905, 7.88936872, 7.90588292, ..., 8.1874757 , 8.0508947 ,\n",
       "       7.94792535])"
      ]
     },
     "execution_count": 33,
     "metadata": {},
     "output_type": "execute_result"
    }
   ],
   "source": [
    "preds_sum"
   ]
  },
  {
   "cell_type": "code",
   "execution_count": 34,
   "metadata": {},
   "outputs": [
    {
     "name": "stdout",
     "output_type": "stream",
     "text": [
      "   id    target\n",
      "0   0  7.941379\n",
      "1   2  7.889369\n",
      "2   6  7.905883\n",
      "3   7  8.264016\n",
      "4  10  8.144817\n"
     ]
    }
   ],
   "source": [
    "sub = pd.read_csv('sample_submission.csv') # csv с ответами\n",
    "sub['target'] = preds_sum\n",
    "print(sub.head())\n",
    "sub.to_csv('RF_minusoneFeature_V2_1.csv', index=False)"
   ]
  },
  {
   "cell_type": "markdown",
   "metadata": {},
   "source": [
    "***score 0.69935 Unlucky (best RF 69914)***"
   ]
  }
 ],
 "metadata": {
  "kernelspec": {
   "display_name": "Python 3",
   "language": "python",
   "name": "python3"
  },
  "language_info": {
   "codemirror_mode": {
    "name": "ipython",
    "version": 3
   },
   "file_extension": ".py",
   "mimetype": "text/x-python",
   "name": "python",
   "nbconvert_exporter": "python",
   "pygments_lexer": "ipython3",
   "version": "3.7.3"
  }
 },
 "nbformat": 4,
 "nbformat_minor": 2
}
